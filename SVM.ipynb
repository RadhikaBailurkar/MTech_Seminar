{
 "cells": [
  {
   "cell_type": "code",
   "execution_count": 30,
   "metadata": {},
   "outputs": [],
   "source": [
    "#Importing Libraries\n",
    "import pandas as pd"
   ]
  },
  {
   "attachments": {
    "image.png": {
     "image/png": "[encoded data removed]"
    }
   },
   "cell_type": "markdown",
   "metadata": {},
   "source": [
    "# The Dataset\n",
    "The columns include Phone_ID, Doc_ID, F3,F4....F19, Action\n",
    "    \n",
    "1. Phone ID:\n",
    "    indicates the phone and the experimenter that recorded the data\n",
    "    reaches from 1-5\n",
    "    1 : Nexus 1, Experimenter E\n",
    "    2 : Nexus S, Experimenter M\n",
    "    3 : Nexus 1, Experimenter R\n",
    "    4 : Samsung Galaxy S, Experimenter I\n",
    "    5 : Droid Incredible, Experimenter E\n",
    "    \n",
    "    \n",
    "2. doc id:\n",
    "    This number indicates the document that the user saw on screen while we collected the data. Every document represents a different session, i.e. the user has put down the device between working on different documents.\n",
    "    The breaks between doc ids 1-5 and 6-7 are several minutes, respectively. Data with doc ids 6 and 7 has been collected 7 to 14 days after doc ids 1-5\n",
    "    1: Wikipedia article \n",
    "    2: Wikipedia article \n",
    "    3: Wikipedia article \n",
    "    4: Image comparison game\n",
    "    5: Image comparison game\n",
    "    6: Wikipedia article \n",
    "    7: Image comparison game\n",
    "    \n",
    "    \n",
    "3. Action\n",
    "    can take three values 0: Invalid Action , 1: User, 2: Imposter\n",
    "    \n",
    "    \n",
    "4. Features\n",
    "\n",
    "![image.png](attachment:image.png)\n"
   ]
  },
  {
   "cell_type": "code",
   "execution_count": 31,
   "metadata": {},
   "outputs": [
    {
     "data": {
      "text/html": [
       "<div>\n",
       "<style scoped>\n",
       "    .dataframe tbody tr th:only-of-type {\n",
       "        vertical-align: middle;\n",
       "    }\n",
       "\n",
       "    .dataframe tbody tr th {\n",
       "        vertical-align: top;\n",
       "    }\n",
       "\n",
       "    .dataframe thead th {\n",
       "        text-align: right;\n",
       "    }\n",
       "</style>\n",
       "<table border=\"1\" class=\"dataframe\">\n",
       "  <thead>\n",
       "    <tr style=\"text-align: right;\">\n",
       "      <th></th>\n",
       "      <th>Phone_ID</th>\n",
       "      <th>Doc_ID</th>\n",
       "      <th>F3</th>\n",
       "      <th>F4</th>\n",
       "      <th>F5</th>\n",
       "      <th>F6</th>\n",
       "      <th>F7</th>\n",
       "      <th>F8</th>\n",
       "      <th>F9</th>\n",
       "      <th>F10</th>\n",
       "      <th>F11</th>\n",
       "      <th>F12</th>\n",
       "      <th>F13</th>\n",
       "      <th>F14</th>\n",
       "      <th>F15</th>\n",
       "      <th>F16</th>\n",
       "      <th>F17</th>\n",
       "      <th>F18</th>\n",
       "      <th>F19</th>\n",
       "      <th>Action</th>\n",
       "    </tr>\n",
       "  </thead>\n",
       "  <tbody>\n",
       "    <tr>\n",
       "      <th>0</th>\n",
       "      <td>37</td>\n",
       "      <td>4</td>\n",
       "      <td>0.341</td>\n",
       "      <td>0.256</td>\n",
       "      <td>27.416</td>\n",
       "      <td>-27.113</td>\n",
       "      <td>12.3980</td>\n",
       "      <td>-32.960</td>\n",
       "      <td>16.1160</td>\n",
       "      <td>0.35736</td>\n",
       "      <td>4</td>\n",
       "      <td>-2.770400</td>\n",
       "      <td>1</td>\n",
       "      <td>0.41784</td>\n",
       "      <td>4.1784</td>\n",
       "      <td>2719.20</td>\n",
       "      <td>0.001</td>\n",
       "      <td>10.3520</td>\n",
       "      <td>0.22222</td>\n",
       "      <td>0</td>\n",
       "    </tr>\n",
       "    <tr>\n",
       "      <th>1</th>\n",
       "      <td>37</td>\n",
       "      <td>4</td>\n",
       "      <td>0.913</td>\n",
       "      <td>0.086</td>\n",
       "      <td>21.771</td>\n",
       "      <td>-30.037</td>\n",
       "      <td>9.8778</td>\n",
       "      <td>-33.867</td>\n",
       "      <td>12.4950</td>\n",
       "      <td>0.26504</td>\n",
       "      <td>4</td>\n",
       "      <td>-2.830000</td>\n",
       "      <td>1</td>\n",
       "      <td>0.00000</td>\n",
       "      <td>156.7900</td>\n",
       "      <td>502.37</td>\n",
       "      <td>0.086</td>\n",
       "      <td>9.8778</td>\n",
       "      <td>0.26504</td>\n",
       "      <td>2</td>\n",
       "    </tr>\n",
       "    <tr>\n",
       "      <th>2</th>\n",
       "      <td>37</td>\n",
       "      <td>4</td>\n",
       "      <td>0.733</td>\n",
       "      <td>0.111</td>\n",
       "      <td>10.886</td>\n",
       "      <td>-34.169</td>\n",
       "      <td>26.9120</td>\n",
       "      <td>-34.673</td>\n",
       "      <td>16.0340</td>\n",
       "      <td>0.99118</td>\n",
       "      <td>2</td>\n",
       "      <td>-0.031436</td>\n",
       "      <td>1</td>\n",
       "      <td>32.12200</td>\n",
       "      <td>143.8500</td>\n",
       "      <td>263.58</td>\n",
       "      <td>0.111</td>\n",
       "      <td>26.9120</td>\n",
       "      <td>0.99118</td>\n",
       "      <td>2</td>\n",
       "    </tr>\n",
       "    <tr>\n",
       "      <th>3</th>\n",
       "      <td>37</td>\n",
       "      <td>4</td>\n",
       "      <td>0.448</td>\n",
       "      <td>0.094</td>\n",
       "      <td>19.151</td>\n",
       "      <td>-34.572</td>\n",
       "      <td>12.7000</td>\n",
       "      <td>-36.790</td>\n",
       "      <td>6.8213</td>\n",
       "      <td>0.59647</td>\n",
       "      <td>4</td>\n",
       "      <td>-2.810500</td>\n",
       "      <td>1</td>\n",
       "      <td>17.36000</td>\n",
       "      <td>76.6380</td>\n",
       "      <td>230.62</td>\n",
       "      <td>0.094</td>\n",
       "      <td>12.7000</td>\n",
       "      <td>0.23333</td>\n",
       "      <td>1</td>\n",
       "    </tr>\n",
       "    <tr>\n",
       "      <th>4</th>\n",
       "      <td>37</td>\n",
       "      <td>4</td>\n",
       "      <td>0.519</td>\n",
       "      <td>0.056</td>\n",
       "      <td>27.718</td>\n",
       "      <td>-32.758</td>\n",
       "      <td>14.6150</td>\n",
       "      <td>-37.294</td>\n",
       "      <td>13.8660</td>\n",
       "      <td>0.67819</td>\n",
       "      <td>4</td>\n",
       "      <td>-2.808300</td>\n",
       "      <td>1</td>\n",
       "      <td>74.82100</td>\n",
       "      <td>275.5700</td>\n",
       "      <td>993.21</td>\n",
       "      <td>0.056</td>\n",
       "      <td>18.9520</td>\n",
       "      <td>0.67819</td>\n",
       "      <td>0</td>\n",
       "    </tr>\n",
       "  </tbody>\n",
       "</table>\n",
       "</div>"
      ],
      "text/plain": [
       "   Phone_ID  Doc_ID     F3     F4      F5      F6       F7      F8       F9  \\\n",
       "0        37       4  0.341  0.256  27.416 -27.113  12.3980 -32.960  16.1160   \n",
       "1        37       4  0.913  0.086  21.771 -30.037   9.8778 -33.867  12.4950   \n",
       "2        37       4  0.733  0.111  10.886 -34.169  26.9120 -34.673  16.0340   \n",
       "3        37       4  0.448  0.094  19.151 -34.572  12.7000 -36.790   6.8213   \n",
       "4        37       4  0.519  0.056  27.718 -32.758  14.6150 -37.294  13.8660   \n",
       "\n",
       "       F10  F11       F12  F13       F14       F15      F16    F17      F18  \\\n",
       "0  0.35736    4 -2.770400    1   0.41784    4.1784  2719.20  0.001  10.3520   \n",
       "1  0.26504    4 -2.830000    1   0.00000  156.7900   502.37  0.086   9.8778   \n",
       "2  0.99118    2 -0.031436    1  32.12200  143.8500   263.58  0.111  26.9120   \n",
       "3  0.59647    4 -2.810500    1  17.36000   76.6380   230.62  0.094  12.7000   \n",
       "4  0.67819    4 -2.808300    1  74.82100  275.5700   993.21  0.056  18.9520   \n",
       "\n",
       "       F19  Action  \n",
       "0  0.22222       0  \n",
       "1  0.26504       2  \n",
       "2  0.99118       2  \n",
       "3  0.23333       1  \n",
       "4  0.67819       0  "
      ]
     },
     "execution_count": 31,
     "metadata": {},
     "output_type": "execute_result"
    }
   ],
   "source": [
    "#import dataset\n",
    "df = pd.read_csv(\"C:/Users/Dell/Desktop/Mtech FE/Seminar/TouchAlytics_data/features/featMat.csv\")\n",
    "#View top 5 rows\n",
    "df.head(5)"
   ]
  },
  {
   "cell_type": "markdown",
   "metadata": {},
   "source": [
    "# Exploratory Data Analysis\n",
    "    "
   ]
  },
  {
   "cell_type": "code",
   "execution_count": 32,
   "metadata": {},
   "outputs": [
    {
     "data": {
      "text/plain": [
       "(21158, 20)"
      ]
     },
     "execution_count": 32,
     "metadata": {},
     "output_type": "execute_result"
    }
   ],
   "source": [
    "#View Rows, cols\n",
    "df.shape"
   ]
  },
  {
   "cell_type": "code",
   "execution_count": 33,
   "metadata": {},
   "outputs": [
    {
     "data": {
      "text/plain": [
       "Phone_ID      int64\n",
       "Doc_ID        int64\n",
       "F3          float64\n",
       "F4          float64\n",
       "F5          float64\n",
       "F6          float64\n",
       "F7          float64\n",
       "F8          float64\n",
       "F9          float64\n",
       "F10         float64\n",
       "F11           int64\n",
       "F12         float64\n",
       "F13           int64\n",
       "F14         float64\n",
       "F15         float64\n",
       "F16         float64\n",
       "F17         float64\n",
       "F18         float64\n",
       "F19         float64\n",
       "Action        int64\n",
       "dtype: object"
      ]
     },
     "execution_count": 33,
     "metadata": {},
     "output_type": "execute_result"
    }
   ],
   "source": [
    "#Check datatypes of the columns\n",
    "df.dtypes"
   ]
  },
  {
   "cell_type": "code",
   "execution_count": 34,
   "metadata": {},
   "outputs": [
    {
     "data": {
      "text/plain": [
       "Phone_ID     0\n",
       "Doc_ID       0\n",
       "F3          39\n",
       "F4           0\n",
       "F5           0\n",
       "F6           0\n",
       "F7           0\n",
       "F8           0\n",
       "F9           0\n",
       "F10          0\n",
       "F11          0\n",
       "F12          0\n",
       "F13          0\n",
       "F14          0\n",
       "F15          0\n",
       "F16          0\n",
       "F17          0\n",
       "F18          0\n",
       "F19          0\n",
       "Action       0\n",
       "dtype: int64"
      ]
     },
     "execution_count": 34,
     "metadata": {},
     "output_type": "execute_result"
    }
   ],
   "source": [
    "#Finding if null values are present\n",
    "df.isnull().sum()"
   ]
  },
  {
   "cell_type": "code",
   "execution_count": 35,
   "metadata": {},
   "outputs": [],
   "source": [
    "# replacing the missing values or NaN with the mean of that column:\n",
    "df.fillna(df.mean(), inplace = True)"
   ]
  },
  {
   "cell_type": "code",
   "execution_count": 36,
   "metadata": {},
   "outputs": [
    {
     "data": {
      "text/plain": [
       "Phone_ID    0\n",
       "Doc_ID      0\n",
       "F3          0\n",
       "F4          0\n",
       "F5          0\n",
       "F6          0\n",
       "F7          0\n",
       "F8          0\n",
       "F9          0\n",
       "F10         0\n",
       "F11         0\n",
       "F12         0\n",
       "F13         0\n",
       "F14         0\n",
       "F15         0\n",
       "F16         0\n",
       "F17         0\n",
       "F18         0\n",
       "F19         0\n",
       "Action      0\n",
       "dtype: int64"
      ]
     },
     "execution_count": 36,
     "metadata": {},
     "output_type": "execute_result"
    }
   ],
   "source": [
    "#Check if any null values are present\n",
    "df.isnull().sum()"
   ]
  },
  {
   "cell_type": "code",
   "execution_count": 37,
   "metadata": {},
   "outputs": [],
   "source": [
    "#As we can see that some data is in float 64 and some in int64\n",
    "#Lets convert all cols to int 64\n",
    "#For changing single column\n",
    "df['F3'] = df.F3.astype('int32')\n",
    "#1. Changing multiple columns,using Dictionary\n",
    "#df = df.astype({'Phone_ID': int, 'Doc_ID': int,'F3':int,'F4':int,'F5':int,'F6':int,'F7':int,'F8':int,'F9':int,'F10':int,'F11':int,'F12':int,'F13':int,'F14':int,'F15':int,'F16':int,'F17':int,'F18':int,'F19':int,'Action': int})\n",
    "#Error:Cannot convert NaN/inf to int\n",
    "\n",
    "df['Phone_ID'] = df.F3.astype('int64')\n",
    "df['Doc_ID'] = df.F3.astype('int64')\n",
    "df['F3'] = df.F3.astype('int64')\n",
    "df['F4'] = df.F3.astype('int64')\n",
    "df['F5'] = df.F3.astype('int64')\n",
    "df['F6'] = df.F3.astype('int64')\n",
    "df['F7'] = df.F3.astype('int64')\n",
    "df['F8'] = df.F3.astype('int64')\n",
    "df['F9'] = df.F3.astype('int64')\n",
    "df['F10'] = df.F3.astype('int64')\n",
    "df['F11'] = df.F3.astype('int64')\n",
    "df['F12'] = df.F3.astype('int64')\n",
    "df['F13'] = df.F3.astype('int64')\n",
    "df['F14'] = df.F3.astype('int64')\n",
    "df['F15'] = df.F3.astype('int64')\n",
    "df['F16'] = df.F3.astype('int64')\n",
    "df['F17'] = df.F3.astype('int64')\n",
    "df['F18'] = df.F3.astype('int64')\n",
    "df['F19'] = df.F3.astype('int64')"
   ]
  },
  {
   "cell_type": "code",
   "execution_count": null,
   "metadata": {},
   "outputs": [],
   "source": []
  },
  {
   "cell_type": "code",
   "execution_count": 38,
   "metadata": {},
   "outputs": [
    {
     "data": {
      "text/plain": [
       "Phone_ID    int64\n",
       "Doc_ID      int64\n",
       "F3          int64\n",
       "F4          int64\n",
       "F5          int64\n",
       "F6          int64\n",
       "F7          int64\n",
       "F8          int64\n",
       "F9          int64\n",
       "F10         int64\n",
       "F11         int64\n",
       "F12         int64\n",
       "F13         int64\n",
       "F14         int64\n",
       "F15         int64\n",
       "F16         int64\n",
       "F17         int64\n",
       "F18         int64\n",
       "F19         int64\n",
       "Action      int64\n",
       "dtype: object"
      ]
     },
     "execution_count": 38,
     "metadata": {},
     "output_type": "execute_result"
    }
   ],
   "source": [
    "#Check Datatype\n",
    "df.dtypes"
   ]
  },
  {
   "cell_type": "markdown",
   "metadata": {},
   "source": [
    "# SVM Algorithm"
   ]
  },
  {
   "cell_type": "code",
   "execution_count": 39,
   "metadata": {},
   "outputs": [],
   "source": [
    "#X = All the cols of the dataset\n",
    "#y = Output col, ie, Action\n",
    "X = df.drop(['Action'], axis = 1)\n",
    "Y = df['Action']\n"
   ]
  },
  {
   "cell_type": "code",
   "execution_count": 40,
   "metadata": {},
   "outputs": [],
   "source": [
    "# Import train_test_split function\n",
    "from sklearn.model_selection import train_test_split\n",
    "X_train, X_test, Y_train, Y_test = train_test_split(X, Y, test_size = 0.20)"
   ]
  },
  {
   "cell_type": "code",
   "execution_count": 41,
   "metadata": {},
   "outputs": [
    {
     "data": {
      "text/plain": [
       "(16926, 19)"
      ]
     },
     "execution_count": 41,
     "metadata": {},
     "output_type": "execute_result"
    }
   ],
   "source": [
    "#Checking Dimensions of X_train\n",
    "X_train.shape"
   ]
  },
  {
   "cell_type": "code",
   "execution_count": 42,
   "metadata": {},
   "outputs": [
    {
     "name": "stderr",
     "output_type": "stream",
     "text": [
      "C:\\Users\\Dell\\AppData\\Local\\Continuum\\anaconda3\\lib\\site-packages\\sklearn\\preprocessing\\data.py:323: DataConversionWarning: Data with input dtype int64 were all converted to float64 by MinMaxScaler.\n",
      "  return self.partial_fit(X, y)\n"
     ]
    }
   ],
   "source": [
    "#Since we have a large training set, we need to scale it \n",
    "from sklearn.preprocessing import MinMaxScaler\n",
    "scaling = MinMaxScaler(feature_range=(-1,1)).fit(X_train)\n",
    "X_train = scaling.transform(X_train)\n",
    "X_test = scaling.transform(X_test)"
   ]
  },
  {
   "cell_type": "code",
   "execution_count": 43,
   "metadata": {},
   "outputs": [
    {
     "name": "stderr",
     "output_type": "stream",
     "text": [
      "C:\\Users\\Dell\\AppData\\Local\\Continuum\\anaconda3\\lib\\site-packages\\sklearn\\svm\\base.py:196: FutureWarning: The default value of gamma will change from 'auto' to 'scale' in version 0.22 to account better for unscaled features. Set gamma explicitly to 'auto' or 'scale' to avoid this warning.\n",
      "  \"avoid this warning.\", FutureWarning)\n"
     ]
    }
   ],
   "source": [
    "#Import svm model\n",
    "from sklearn.svm import SVC\n",
    "\n",
    "#Create a svm Classifier\n",
    "clf = SVC(kernel='rbf', random_state = 1) # Radial Basis Function Kernel\n",
    "\n",
    "#Train the model using the training sets\n",
    "clf.fit(X_train, Y_train)\n",
    "\n",
    "#Predict the response for test dataset\n",
    "Y_train_pred = clf.predict(X_train)\n",
    "Y_test_pred = clf.predict(X_test)\n"
   ]
  },
  {
   "cell_type": "markdown",
   "metadata": {},
   "source": [
    "# Accuracy"
   ]
  },
  {
   "cell_type": "code",
   "execution_count": 44,
   "metadata": {},
   "outputs": [
    {
     "name": "stdout",
     "output_type": "stream",
     "text": [
      "Accuracy: 0.9198960302457467\n"
     ]
    }
   ],
   "source": [
    "#Import scikit-learn metrics module for accuracy calculation\n",
    "from sklearn import metrics\n",
    "\n",
    "# Model Accuracy: how often is the classifier correct?\n",
    "print(\"Accuracy:\",metrics.accuracy_score(Y_test, Y_pred))"
   ]
  },
  {
   "cell_type": "code",
   "execution_count": 46,
   "metadata": {},
   "outputs": [
    {
     "name": "stdout",
     "output_type": "stream",
     "text": [
      "              precision    recall  f1-score   support\n",
      "\n",
      "           0       0.00      0.00      0.00       180\n",
      "           1       0.00      0.00      0.00       159\n",
      "           2       0.92      1.00      0.96      3893\n",
      "\n",
      "   micro avg       0.92      0.92      0.92      4232\n",
      "   macro avg       0.31      0.33      0.32      4232\n",
      "weighted avg       0.85      0.92      0.88      4232\n",
      "\n"
     ]
    },
    {
     "name": "stderr",
     "output_type": "stream",
     "text": [
      "C:\\Users\\Dell\\AppData\\Local\\Continuum\\anaconda3\\lib\\site-packages\\sklearn\\metrics\\classification.py:1143: UndefinedMetricWarning: Precision and F-score are ill-defined and being set to 0.0 in labels with no predicted samples.\n",
      "  'precision', 'predicted', average, warn_for)\n"
     ]
    }
   ],
   "source": [
    "#Confusion Matrix\n",
    "from sklearn.metrics import classification_report, confusion_matrix\n",
    "print(classification_report(Y_test, Y_pred))"
   ]
  },
  {
   "cell_type": "code",
   "execution_count": null,
   "metadata": {},
   "outputs": [],
   "source": []
  },
  {
   "cell_type": "code",
   "execution_count": null,
   "metadata": {},
   "outputs": [],
   "source": []
  },
  {
   "cell_type": "code",
   "execution_count": null,
   "metadata": {},
   "outputs": [],
   "source": []
  }
 ],
 "metadata": {
  "kernelspec": {
   "display_name": "Python 3",
   "language": "python",
   "name": "python3"
  },
  "language_info": {
   "codemirror_mode": {
    "name": "ipython",
    "version": 3
   },
   "file_extension": ".py",
   "mimetype": "text/x-python",
   "name": "python",
   "nbconvert_exporter": "python",
   "pygments_lexer": "ipython3",
   "version": "3.7.1"
  }
 },
 "nbformat": 4,
 "nbformat_minor": 2
}
