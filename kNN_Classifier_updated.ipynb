{
 "cells": [
  {
   "cell_type": "code",
   "execution_count": 2,
   "metadata": {},
   "outputs": [],
   "source": [
    "import pandas as pd\n",
    "import numpy as np"
   ]
  },
  {
   "cell_type": "markdown",
   "metadata": {},
   "source": [
    "# Dataset\n"
   ]
  },
  {
   "attachments": {
    "image.png": {
     "image/png": "[encoded data removed]"
    }
   },
   "cell_type": "markdown",
   "metadata": {},
   "source": [
    "The columns include Phone_ID, Doc_ID, F3,F4....F19, Action\n",
    "    \n",
    "1. Phone ID:\n",
    "    indicates the phone and the experimenter that recorded the data\n",
    "    reaches from 1-5\n",
    "    1 : Nexus 1, Experimenter E\n",
    "    2 : Nexus S, Experimenter M\n",
    "    3 : Nexus 1, Experimenter R\n",
    "    4 : Samsung Galaxy S, Experimenter I\n",
    "    5 : Droid Incredible, Experimenter E\n",
    "    \n",
    "    \n",
    "2. doc id:\n",
    "    This number indicates the document that the user saw on screen while we collected the data. Every document represents a different session, i.e. the user has put down the device between working on different documents.\n",
    "    The breaks between doc ids 1-5 and 6-7 are several minutes, respectively. Data with doc ids 6 and 7 has been collected 7 to 14 days after doc ids 1-5\n",
    "    1: Wikipedia article \n",
    "    2: Wikipedia article \n",
    "    3: Wikipedia article \n",
    "    4: Image comparison game\n",
    "    5: Image comparison game\n",
    "    6: Wikipedia article \n",
    "    7: Image comparison game\n",
    "    \n",
    "    \n",
    "3. Action\n",
    "    can take three values 0: Invalid Action , 1: User, 2: Imposter\n",
    "    \n",
    "    \n",
    "4. Features\n",
    "\n",
    "![image.png](attachment:image.png)\n"
   ]
  },
  {
   "cell_type": "code",
   "execution_count": 3,
   "metadata": {},
   "outputs": [
    {
     "data": {
      "text/html": [
       "<div>\n",
       "<style scoped>\n",
       "    .dataframe tbody tr th:only-of-type {\n",
       "        vertical-align: middle;\n",
       "    }\n",
       "\n",
       "    .dataframe tbody tr th {\n",
       "        vertical-align: top;\n",
       "    }\n",
       "\n",
       "    .dataframe thead th {\n",
       "        text-align: right;\n",
       "    }\n",
       "</style>\n",
       "<table border=\"1\" class=\"dataframe\">\n",
       "  <thead>\n",
       "    <tr style=\"text-align: right;\">\n",
       "      <th></th>\n",
       "      <th>Phone_ID</th>\n",
       "      <th>Doc_ID</th>\n",
       "      <th>F3</th>\n",
       "      <th>F4</th>\n",
       "      <th>F5</th>\n",
       "      <th>F6</th>\n",
       "      <th>F7</th>\n",
       "      <th>F8</th>\n",
       "      <th>F9</th>\n",
       "      <th>F10</th>\n",
       "      <th>F11</th>\n",
       "      <th>F12</th>\n",
       "      <th>F13</th>\n",
       "      <th>F14</th>\n",
       "      <th>F15</th>\n",
       "      <th>F16</th>\n",
       "      <th>F17</th>\n",
       "      <th>F18</th>\n",
       "      <th>F19</th>\n",
       "      <th>Action</th>\n",
       "    </tr>\n",
       "  </thead>\n",
       "  <tbody>\n",
       "    <tr>\n",
       "      <th>0</th>\n",
       "      <td>37</td>\n",
       "      <td>4</td>\n",
       "      <td>0.341</td>\n",
       "      <td>0.256</td>\n",
       "      <td>27.416</td>\n",
       "      <td>-27.113</td>\n",
       "      <td>12.3980</td>\n",
       "      <td>-32.960</td>\n",
       "      <td>16.1160</td>\n",
       "      <td>0.35736</td>\n",
       "      <td>4</td>\n",
       "      <td>-2.770400</td>\n",
       "      <td>1</td>\n",
       "      <td>0.41784</td>\n",
       "      <td>4.1784</td>\n",
       "      <td>2719.20</td>\n",
       "      <td>0.001</td>\n",
       "      <td>10.3520</td>\n",
       "      <td>0.22222</td>\n",
       "      <td>0</td>\n",
       "    </tr>\n",
       "    <tr>\n",
       "      <th>1</th>\n",
       "      <td>37</td>\n",
       "      <td>4</td>\n",
       "      <td>0.913</td>\n",
       "      <td>0.086</td>\n",
       "      <td>21.771</td>\n",
       "      <td>-30.037</td>\n",
       "      <td>9.8778</td>\n",
       "      <td>-33.867</td>\n",
       "      <td>12.4950</td>\n",
       "      <td>0.26504</td>\n",
       "      <td>4</td>\n",
       "      <td>-2.830000</td>\n",
       "      <td>1</td>\n",
       "      <td>0.00000</td>\n",
       "      <td>156.7900</td>\n",
       "      <td>502.37</td>\n",
       "      <td>0.086</td>\n",
       "      <td>9.8778</td>\n",
       "      <td>0.26504</td>\n",
       "      <td>2</td>\n",
       "    </tr>\n",
       "    <tr>\n",
       "      <th>2</th>\n",
       "      <td>37</td>\n",
       "      <td>4</td>\n",
       "      <td>0.733</td>\n",
       "      <td>0.111</td>\n",
       "      <td>10.886</td>\n",
       "      <td>-34.169</td>\n",
       "      <td>26.9120</td>\n",
       "      <td>-34.673</td>\n",
       "      <td>16.0340</td>\n",
       "      <td>0.99118</td>\n",
       "      <td>2</td>\n",
       "      <td>-0.031436</td>\n",
       "      <td>1</td>\n",
       "      <td>32.12200</td>\n",
       "      <td>143.8500</td>\n",
       "      <td>263.58</td>\n",
       "      <td>0.111</td>\n",
       "      <td>26.9120</td>\n",
       "      <td>0.99118</td>\n",
       "      <td>2</td>\n",
       "    </tr>\n",
       "    <tr>\n",
       "      <th>3</th>\n",
       "      <td>37</td>\n",
       "      <td>4</td>\n",
       "      <td>0.448</td>\n",
       "      <td>0.094</td>\n",
       "      <td>19.151</td>\n",
       "      <td>-34.572</td>\n",
       "      <td>12.7000</td>\n",
       "      <td>-36.790</td>\n",
       "      <td>6.8213</td>\n",
       "      <td>0.59647</td>\n",
       "      <td>4</td>\n",
       "      <td>-2.810500</td>\n",
       "      <td>1</td>\n",
       "      <td>17.36000</td>\n",
       "      <td>76.6380</td>\n",
       "      <td>230.62</td>\n",
       "      <td>0.094</td>\n",
       "      <td>12.7000</td>\n",
       "      <td>0.23333</td>\n",
       "      <td>1</td>\n",
       "    </tr>\n",
       "    <tr>\n",
       "      <th>4</th>\n",
       "      <td>37</td>\n",
       "      <td>4</td>\n",
       "      <td>0.519</td>\n",
       "      <td>0.056</td>\n",
       "      <td>27.718</td>\n",
       "      <td>-32.758</td>\n",
       "      <td>14.6150</td>\n",
       "      <td>-37.294</td>\n",
       "      <td>13.8660</td>\n",
       "      <td>0.67819</td>\n",
       "      <td>4</td>\n",
       "      <td>-2.808300</td>\n",
       "      <td>1</td>\n",
       "      <td>74.82100</td>\n",
       "      <td>275.5700</td>\n",
       "      <td>993.21</td>\n",
       "      <td>0.056</td>\n",
       "      <td>18.9520</td>\n",
       "      <td>0.67819</td>\n",
       "      <td>0</td>\n",
       "    </tr>\n",
       "  </tbody>\n",
       "</table>\n",
       "</div>"
      ],
      "text/plain": [
       "   Phone_ID  Doc_ID     F3     F4      F5      F6       F7      F8       F9  \\\n",
       "0        37       4  0.341  0.256  27.416 -27.113  12.3980 -32.960  16.1160   \n",
       "1        37       4  0.913  0.086  21.771 -30.037   9.8778 -33.867  12.4950   \n",
       "2        37       4  0.733  0.111  10.886 -34.169  26.9120 -34.673  16.0340   \n",
       "3        37       4  0.448  0.094  19.151 -34.572  12.7000 -36.790   6.8213   \n",
       "4        37       4  0.519  0.056  27.718 -32.758  14.6150 -37.294  13.8660   \n",
       "\n",
       "       F10  F11       F12  F13       F14       F15      F16    F17      F18  \\\n",
       "0  0.35736    4 -2.770400    1   0.41784    4.1784  2719.20  0.001  10.3520   \n",
       "1  0.26504    4 -2.830000    1   0.00000  156.7900   502.37  0.086   9.8778   \n",
       "2  0.99118    2 -0.031436    1  32.12200  143.8500   263.58  0.111  26.9120   \n",
       "3  0.59647    4 -2.810500    1  17.36000   76.6380   230.62  0.094  12.7000   \n",
       "4  0.67819    4 -2.808300    1  74.82100  275.5700   993.21  0.056  18.9520   \n",
       "\n",
       "       F19  Action  \n",
       "0  0.22222       0  \n",
       "1  0.26504       2  \n",
       "2  0.99118       2  \n",
       "3  0.23333       1  \n",
       "4  0.67819       0  "
      ]
     },
     "execution_count": 3,
     "metadata": {},
     "output_type": "execute_result"
    }
   ],
   "source": [
    "#Load dataset\n",
    "df = pd.read_csv(\"C:/Users/Dell/Desktop/Mtech FE/Seminar/TouchAlytics_data/features/featMat.csv\")\n",
    "#View top 5 rows\n",
    "df.head(5)"
   ]
  },
  {
   "cell_type": "markdown",
   "metadata": {},
   "source": [
    "# Exploratory data analysis"
   ]
  },
  {
   "cell_type": "code",
   "execution_count": 4,
   "metadata": {},
   "outputs": [
    {
     "data": {
      "text/plain": [
       "(21158, 20)"
      ]
     },
     "execution_count": 4,
     "metadata": {},
     "output_type": "execute_result"
    }
   ],
   "source": [
    "#(No of rows, no of cols)\n",
    "df.shape"
   ]
  },
  {
   "cell_type": "code",
   "execution_count": 5,
   "metadata": {},
   "outputs": [
    {
     "data": {
      "text/html": [
       "<div>\n",
       "<style scoped>\n",
       "    .dataframe tbody tr th:only-of-type {\n",
       "        vertical-align: middle;\n",
       "    }\n",
       "\n",
       "    .dataframe tbody tr th {\n",
       "        vertical-align: top;\n",
       "    }\n",
       "\n",
       "    .dataframe thead th {\n",
       "        text-align: right;\n",
       "    }\n",
       "</style>\n",
       "<table border=\"1\" class=\"dataframe\">\n",
       "  <thead>\n",
       "    <tr style=\"text-align: right;\">\n",
       "      <th></th>\n",
       "      <th>Phone_ID</th>\n",
       "      <th>Doc_ID</th>\n",
       "      <th>F3</th>\n",
       "      <th>F4</th>\n",
       "      <th>F5</th>\n",
       "      <th>F6</th>\n",
       "      <th>F7</th>\n",
       "      <th>F8</th>\n",
       "      <th>F9</th>\n",
       "      <th>F10</th>\n",
       "      <th>F11</th>\n",
       "      <th>F12</th>\n",
       "      <th>F13</th>\n",
       "      <th>F14</th>\n",
       "      <th>F15</th>\n",
       "      <th>F16</th>\n",
       "      <th>F17</th>\n",
       "      <th>F18</th>\n",
       "      <th>F19</th>\n",
       "      <th>Action</th>\n",
       "    </tr>\n",
       "  </thead>\n",
       "  <tbody>\n",
       "    <tr>\n",
       "      <th>count</th>\n",
       "      <td>21158.000000</td>\n",
       "      <td>21158.000000</td>\n",
       "      <td>2.111900e+04</td>\n",
       "      <td>21158.000000</td>\n",
       "      <td>21158.000000</td>\n",
       "      <td>21158.000000</td>\n",
       "      <td>21158.000000</td>\n",
       "      <td>21158.000000</td>\n",
       "      <td>21158.000000</td>\n",
       "      <td>2.115800e+04</td>\n",
       "      <td>21158.000000</td>\n",
       "      <td>21158.000000</td>\n",
       "      <td>21158.000000</td>\n",
       "      <td>21158.000000</td>\n",
       "      <td>21158.000000</td>\n",
       "      <td>2.115800e+04</td>\n",
       "      <td>21158.000000</td>\n",
       "      <td>21158.000000</td>\n",
       "      <td>2.115800e+04</td>\n",
       "      <td>21158.000000</td>\n",
       "    </tr>\n",
       "    <tr>\n",
       "      <th>mean</th>\n",
       "      <td>20.442811</td>\n",
       "      <td>3.299603</td>\n",
       "      <td>6.206239e+00</td>\n",
       "      <td>0.783021</td>\n",
       "      <td>18.625291</td>\n",
       "      <td>-36.793817</td>\n",
       "      <td>19.080223</td>\n",
       "      <td>-31.758999</td>\n",
       "      <td>14.086355</td>\n",
       "      <td>7.737424e-01</td>\n",
       "      <td>2.867615</td>\n",
       "      <td>0.400744</td>\n",
       "      <td>2.719728</td>\n",
       "      <td>16.746254</td>\n",
       "      <td>69.774746</td>\n",
       "      <td>inf</td>\n",
       "      <td>0.783054</td>\n",
       "      <td>19.082328</td>\n",
       "      <td>7.734018e-01</td>\n",
       "      <td>1.886001</td>\n",
       "    </tr>\n",
       "    <tr>\n",
       "      <th>std</th>\n",
       "      <td>11.992660</td>\n",
       "      <td>1.723554</td>\n",
       "      <td>3.055244e+04</td>\n",
       "      <td>1.092829</td>\n",
       "      <td>9.599073</td>\n",
       "      <td>9.063655</td>\n",
       "      <td>10.282811</td>\n",
       "      <td>10.379782</td>\n",
       "      <td>7.960148</td>\n",
       "      <td>1.829728e-01</td>\n",
       "      <td>0.798927</td>\n",
       "      <td>1.692438</td>\n",
       "      <td>1.127165</td>\n",
       "      <td>26.210998</td>\n",
       "      <td>104.098943</td>\n",
       "      <td>NaN</td>\n",
       "      <td>1.092669</td>\n",
       "      <td>10.283038</td>\n",
       "      <td>1.834834e-01</td>\n",
       "      <td>0.420840</td>\n",
       "    </tr>\n",
       "    <tr>\n",
       "      <th>min</th>\n",
       "      <td>1.000000</td>\n",
       "      <td>1.000000</td>\n",
       "      <td>-1.030000e+06</td>\n",
       "      <td>0.003000</td>\n",
       "      <td>0.000000</td>\n",
       "      <td>-55.270000</td>\n",
       "      <td>-0.806350</td>\n",
       "      <td>-55.379000</td>\n",
       "      <td>0.000000</td>\n",
       "      <td>6.120000e-17</td>\n",
       "      <td>1.000000</td>\n",
       "      <td>-3.137600</td>\n",
       "      <td>1.000000</td>\n",
       "      <td>0.000000</td>\n",
       "      <td>0.000000</td>\n",
       "      <td>0.000000e+00</td>\n",
       "      <td>0.001000</td>\n",
       "      <td>-0.806350</td>\n",
       "      <td>6.120000e-17</td>\n",
       "      <td>0.000000</td>\n",
       "    </tr>\n",
       "    <tr>\n",
       "      <th>25%</th>\n",
       "      <td>10.000000</td>\n",
       "      <td>2.000000</td>\n",
       "      <td>7.790000e-01</td>\n",
       "      <td>0.137000</td>\n",
       "      <td>10.901000</td>\n",
       "      <td>-43.496000</td>\n",
       "      <td>10.465000</td>\n",
       "      <td>-38.700000</td>\n",
       "      <td>7.841800</td>\n",
       "      <td>6.705000e-01</td>\n",
       "      <td>2.000000</td>\n",
       "      <td>-0.141265</td>\n",
       "      <td>2.000000</td>\n",
       "      <td>0.000000</td>\n",
       "      <td>8.069100</td>\n",
       "      <td>1.808200e+01</td>\n",
       "      <td>0.137000</td>\n",
       "      <td>10.465000</td>\n",
       "      <td>6.702400e-01</td>\n",
       "      <td>2.000000</td>\n",
       "    </tr>\n",
       "    <tr>\n",
       "      <th>50%</th>\n",
       "      <td>21.000000</td>\n",
       "      <td>3.000000</td>\n",
       "      <td>1.586000e+00</td>\n",
       "      <td>0.404000</td>\n",
       "      <td>19.856000</td>\n",
       "      <td>-38.100000</td>\n",
       "      <td>20.763000</td>\n",
       "      <td>-33.467000</td>\n",
       "      <td>13.105500</td>\n",
       "      <td>7.991900e-01</td>\n",
       "      <td>3.000000</td>\n",
       "      <td>1.267900</td>\n",
       "      <td>3.000000</td>\n",
       "      <td>6.305700</td>\n",
       "      <td>22.346000</td>\n",
       "      <td>5.555550e+01</td>\n",
       "      <td>0.404000</td>\n",
       "      <td>20.763000</td>\n",
       "      <td>7.990600e-01</td>\n",
       "      <td>2.000000</td>\n",
       "    </tr>\n",
       "    <tr>\n",
       "      <th>75%</th>\n",
       "      <td>32.000000</td>\n",
       "      <td>5.000000</td>\n",
       "      <td>3.724000e+00</td>\n",
       "      <td>0.981000</td>\n",
       "      <td>25.198000</td>\n",
       "      <td>-31.246000</td>\n",
       "      <td>26.610000</td>\n",
       "      <td>-25.836000</td>\n",
       "      <td>19.095750</td>\n",
       "      <td>9.214575e-01</td>\n",
       "      <td>3.000000</td>\n",
       "      <td>1.551300</td>\n",
       "      <td>3.000000</td>\n",
       "      <td>20.982000</td>\n",
       "      <td>107.227500</td>\n",
       "      <td>2.370250e+02</td>\n",
       "      <td>0.981000</td>\n",
       "      <td>26.683500</td>\n",
       "      <td>9.213525e-01</td>\n",
       "      <td>2.000000</td>\n",
       "    </tr>\n",
       "    <tr>\n",
       "      <th>max</th>\n",
       "      <td>41.000000</td>\n",
       "      <td>7.000000</td>\n",
       "      <td>1.030000e+06</td>\n",
       "      <td>22.315000</td>\n",
       "      <td>57.995000</td>\n",
       "      <td>-0.654080</td>\n",
       "      <td>57.995000</td>\n",
       "      <td>3.124600</td>\n",
       "      <td>53.861000</td>\n",
       "      <td>1.000000e+00</td>\n",
       "      <td>4.000000</td>\n",
       "      <td>3.141600</td>\n",
       "      <td>5.000000</td>\n",
       "      <td>739.430000</td>\n",
       "      <td>4037.900000</td>\n",
       "      <td>inf</td>\n",
       "      <td>22.315000</td>\n",
       "      <td>57.995000</td>\n",
       "      <td>1.000000e+00</td>\n",
       "      <td>2.000000</td>\n",
       "    </tr>\n",
       "  </tbody>\n",
       "</table>\n",
       "</div>"
      ],
      "text/plain": [
       "           Phone_ID        Doc_ID            F3            F4            F5  \\\n",
       "count  21158.000000  21158.000000  2.111900e+04  21158.000000  21158.000000   \n",
       "mean      20.442811      3.299603  6.206239e+00      0.783021     18.625291   \n",
       "std       11.992660      1.723554  3.055244e+04      1.092829      9.599073   \n",
       "min        1.000000      1.000000 -1.030000e+06      0.003000      0.000000   \n",
       "25%       10.000000      2.000000  7.790000e-01      0.137000     10.901000   \n",
       "50%       21.000000      3.000000  1.586000e+00      0.404000     19.856000   \n",
       "75%       32.000000      5.000000  3.724000e+00      0.981000     25.198000   \n",
       "max       41.000000      7.000000  1.030000e+06     22.315000     57.995000   \n",
       "\n",
       "                 F6            F7            F8            F9           F10  \\\n",
       "count  21158.000000  21158.000000  21158.000000  21158.000000  2.115800e+04   \n",
       "mean     -36.793817     19.080223    -31.758999     14.086355  7.737424e-01   \n",
       "std        9.063655     10.282811     10.379782      7.960148  1.829728e-01   \n",
       "min      -55.270000     -0.806350    -55.379000      0.000000  6.120000e-17   \n",
       "25%      -43.496000     10.465000    -38.700000      7.841800  6.705000e-01   \n",
       "50%      -38.100000     20.763000    -33.467000     13.105500  7.991900e-01   \n",
       "75%      -31.246000     26.610000    -25.836000     19.095750  9.214575e-01   \n",
       "max       -0.654080     57.995000      3.124600     53.861000  1.000000e+00   \n",
       "\n",
       "                F11           F12           F13           F14           F15  \\\n",
       "count  21158.000000  21158.000000  21158.000000  21158.000000  21158.000000   \n",
       "mean       2.867615      0.400744      2.719728     16.746254     69.774746   \n",
       "std        0.798927      1.692438      1.127165     26.210998    104.098943   \n",
       "min        1.000000     -3.137600      1.000000      0.000000      0.000000   \n",
       "25%        2.000000     -0.141265      2.000000      0.000000      8.069100   \n",
       "50%        3.000000      1.267900      3.000000      6.305700     22.346000   \n",
       "75%        3.000000      1.551300      3.000000     20.982000    107.227500   \n",
       "max        4.000000      3.141600      5.000000    739.430000   4037.900000   \n",
       "\n",
       "                F16           F17           F18           F19        Action  \n",
       "count  2.115800e+04  21158.000000  21158.000000  2.115800e+04  21158.000000  \n",
       "mean            inf      0.783054     19.082328  7.734018e-01      1.886001  \n",
       "std             NaN      1.092669     10.283038  1.834834e-01      0.420840  \n",
       "min    0.000000e+00      0.001000     -0.806350  6.120000e-17      0.000000  \n",
       "25%    1.808200e+01      0.137000     10.465000  6.702400e-01      2.000000  \n",
       "50%    5.555550e+01      0.404000     20.763000  7.990600e-01      2.000000  \n",
       "75%    2.370250e+02      0.981000     26.683500  9.213525e-01      2.000000  \n",
       "max             inf     22.315000     57.995000  1.000000e+00      2.000000  "
      ]
     },
     "execution_count": 5,
     "metadata": {},
     "output_type": "execute_result"
    }
   ],
   "source": [
    "#Statistics of the data set\n",
    "df.describe()"
   ]
  },
  {
   "cell_type": "code",
   "execution_count": 6,
   "metadata": {},
   "outputs": [
    {
     "data": {
      "text/plain": [
       "Phone_ID      int64\n",
       "Doc_ID        int64\n",
       "F3          float64\n",
       "F4          float64\n",
       "F5          float64\n",
       "F6          float64\n",
       "F7          float64\n",
       "F8          float64\n",
       "F9          float64\n",
       "F10         float64\n",
       "F11           int64\n",
       "F12         float64\n",
       "F13           int64\n",
       "F14         float64\n",
       "F15         float64\n",
       "F16         float64\n",
       "F17         float64\n",
       "F18         float64\n",
       "F19         float64\n",
       "Action        int64\n",
       "dtype: object"
      ]
     },
     "execution_count": 6,
     "metadata": {},
     "output_type": "execute_result"
    }
   ],
   "source": [
    "df.dtypes"
   ]
  },
  {
   "cell_type": "code",
   "execution_count": 7,
   "metadata": {},
   "outputs": [
    {
     "data": {
      "text/plain": [
       "Phone_ID     0\n",
       "Doc_ID       0\n",
       "F3          39\n",
       "F4           0\n",
       "F5           0\n",
       "F6           0\n",
       "F7           0\n",
       "F8           0\n",
       "F9           0\n",
       "F10          0\n",
       "F11          0\n",
       "F12          0\n",
       "F13          0\n",
       "F14          0\n",
       "F15          0\n",
       "F16          0\n",
       "F17          0\n",
       "F18          0\n",
       "F19          0\n",
       "Action       0\n",
       "dtype: int64"
      ]
     },
     "execution_count": 7,
     "metadata": {},
     "output_type": "execute_result"
    }
   ],
   "source": [
    "#Finding if null values are present\n",
    "df.isnull().sum()"
   ]
  },
  {
   "cell_type": "code",
   "execution_count": 8,
   "metadata": {},
   "outputs": [],
   "source": [
    "# replacing the missing values with the mean of that column:\n",
    "df.fillna(df.mean(), inplace = True)"
   ]
  },
  {
   "cell_type": "code",
   "execution_count": 9,
   "metadata": {},
   "outputs": [
    {
     "data": {
      "text/plain": [
       "Phone_ID    int64\n",
       "Doc_ID      int64\n",
       "F3          int64\n",
       "F4          int64\n",
       "F5          int64\n",
       "F6          int64\n",
       "F7          int64\n",
       "F8          int64\n",
       "F9          int64\n",
       "F10         int64\n",
       "F11         int64\n",
       "F12         int64\n",
       "F13         int64\n",
       "F14         int64\n",
       "F15         int64\n",
       "F16         int64\n",
       "F17         int64\n",
       "F18         int64\n",
       "F19         int64\n",
       "Action      int64\n",
       "dtype: object"
      ]
     },
     "execution_count": 9,
     "metadata": {},
     "output_type": "execute_result"
    }
   ],
   "source": [
    "df['Phone_ID'] = df.F3.astype('int64')\n",
    "df['Doc_ID'] = df.F3.astype('int64')\n",
    "df['F3'] = df.F3.astype('int64')\n",
    "df['F4'] = df.F3.astype('int64')\n",
    "df['F5'] = df.F3.astype('int64')\n",
    "df['F6'] = df.F3.astype('int64')\n",
    "df['F7'] = df.F3.astype('int64')\n",
    "df['F8'] = df.F3.astype('int64')\n",
    "df['F9'] = df.F3.astype('int64')\n",
    "df['F10'] = df.F3.astype('int64')\n",
    "df['F11'] = df.F3.astype('int64')\n",
    "df['F12'] = df.F3.astype('int64')\n",
    "df['F13'] = df.F3.astype('int64')\n",
    "df['F14'] = df.F3.astype('int64')\n",
    "df['F15'] = df.F3.astype('int64')\n",
    "df['F16'] = df.F3.astype('int64')\n",
    "df['F17'] = df.F3.astype('int64')\n",
    "df['F18'] = df.F3.astype('int64')\n",
    "df['F19'] = df.F3.astype('int64')\n",
    "\n",
    "df.dtypes"
   ]
  },
  {
   "cell_type": "code",
   "execution_count": 10,
   "metadata": {},
   "outputs": [
    {
     "data": {
      "text/plain": [
       "Phone_ID    0\n",
       "Doc_ID      0\n",
       "F3          0\n",
       "F4          0\n",
       "F5          0\n",
       "F6          0\n",
       "F7          0\n",
       "F8          0\n",
       "F9          0\n",
       "F10         0\n",
       "F11         0\n",
       "F12         0\n",
       "F13         0\n",
       "F14         0\n",
       "F15         0\n",
       "F16         0\n",
       "F17         0\n",
       "F18         0\n",
       "F19         0\n",
       "Action      0\n",
       "dtype: int64"
      ]
     },
     "execution_count": 10,
     "metadata": {},
     "output_type": "execute_result"
    }
   ],
   "source": [
    "#Check if any null values are present\n",
    "df.isnull().sum()"
   ]
  },
  {
   "cell_type": "markdown",
   "metadata": {},
   "source": [
    "# kNN Algorithm"
   ]
  },
  {
   "cell_type": "code",
   "execution_count": 11,
   "metadata": {},
   "outputs": [],
   "source": [
    "#X = All the cols of the dataset\n",
    "#y = Output col, ie, Action\n",
    "X = df.drop(['Action'], axis = 1)\n",
    "y = df['Action']"
   ]
  },
  {
   "cell_type": "code",
   "execution_count": 14,
   "metadata": {},
   "outputs": [],
   "source": [
    "#train test split\n",
    "from sklearn.model_selection import train_test_split\n",
    "X_train, X_test, y_train, y_test = train_test_split(X,y, random_state = 18,test_size=0.3) # 70% training and 30% test"
   ]
  },
  {
   "cell_type": "code",
   "execution_count": 107,
   "metadata": {},
   "outputs": [],
   "source": [
    "\n",
    "#X_test =  X_test.fillna(0).astype(int)\n",
    "#X_test.fillna(X_test.mean(), inplace = True)\n",
    "#X_train.fillna(X_train.mean(),inplace = True)\n",
    "#y_test.fillna(y_test.mean(), inplace = True)\n",
    "#y_train.fillna(y_train.mean(), inplace= True)"
   ]
  },
  {
   "cell_type": "code",
   "execution_count": null,
   "metadata": {},
   "outputs": [],
   "source": []
  },
  {
   "cell_type": "code",
   "execution_count": 15,
   "metadata": {},
   "outputs": [
    {
     "name": "stderr",
     "output_type": "stream",
     "text": [
      "C:\\Users\\Dell\\AppData\\Local\\Continuum\\anaconda3\\lib\\site-packages\\sklearn\\preprocessing\\data.py:625: DataConversionWarning: Data with input dtype int64 were all converted to float64 by StandardScaler.\n",
      "  return self.partial_fit(X, y)\n",
      "C:\\Users\\Dell\\AppData\\Local\\Continuum\\anaconda3\\lib\\site-packages\\ipykernel_launcher.py:6: DataConversionWarning: Data with input dtype int64 were all converted to float64 by StandardScaler.\n",
      "  \n",
      "C:\\Users\\Dell\\AppData\\Local\\Continuum\\anaconda3\\lib\\site-packages\\ipykernel_launcher.py:7: DataConversionWarning: Data with input dtype int64 were all converted to float64 by StandardScaler.\n",
      "  import sys\n"
     ]
    }
   ],
   "source": [
    "#Feature selection\n",
    "from sklearn.preprocessing import StandardScaler\n",
    "scaler = StandardScaler()\n",
    "scaler.fit(X_train)\n",
    "\n",
    "X_train = scaler.transform(X_train)\n",
    "X_test = scaler.transform(X_test)"
   ]
  },
  {
   "cell_type": "code",
   "execution_count": 18,
   "metadata": {},
   "outputs": [],
   "source": [
    "#Import knearest neighbors Classifier model\n",
    "from sklearn.neighbors import KNeighborsClassifier\n",
    "#Create KNN Classifier\n",
    "# Taking k = 3\n",
    "knn = KNeighborsClassifier(n_neighbors=3,metric = 'minkowski')\n",
    "#Train the model\n",
    "knn.fit(X_train, y_train)\n",
    "#Predict the response for test dataset\n",
    "y_pred = knn.predict(X_test)\n",
    "#print(y_pred)"
   ]
  },
  {
   "cell_type": "markdown",
   "metadata": {},
   "source": [
    "# Accuracy\n"
   ]
  },
  {
   "cell_type": "code",
   "execution_count": 20,
   "metadata": {},
   "outputs": [
    {
     "name": "stdout",
     "output_type": "stream",
     "text": [
      "Accuracy: 0.9240705734089477\n"
     ]
    }
   ],
   "source": [
    "#calculate acccuracy\n",
    "from sklearn import metrics\n",
    "print(\"Accuracy:\",metrics.accuracy_score(y_test, y_pred))"
   ]
  },
  {
   "cell_type": "code",
   "execution_count": null,
   "metadata": {},
   "outputs": [],
   "source": []
  },
  {
   "cell_type": "code",
   "execution_count": 21,
   "metadata": {},
   "outputs": [
    {
     "name": "stdout",
     "output_type": "stream",
     "text": [
      "Accuracy: 0.9240705734089477\n"
     ]
    }
   ],
   "source": [
    "#k = 5\n",
    "knn = KNeighborsClassifier(n_neighbors=5, metric = 'euclidean')\n",
    "knn.fit(X_train, y_train)\n",
    "y_pred = knn.predict(X_test)\n",
    "print(\"Accuracy:\",metrics.accuracy_score(y_test, y_pred))"
   ]
  },
  {
   "cell_type": "code",
   "execution_count": 28,
   "metadata": {},
   "outputs": [
    {
     "name": "stdout",
     "output_type": "stream",
     "text": [
      "              precision    recall  f1-score   support\n",
      "\n",
      "           0       0.00      0.00      0.00       234\n",
      "           1       0.00      0.00      0.00       248\n",
      "           2       0.92      1.00      0.96      5866\n",
      "\n",
      "   micro avg       0.92      0.92      0.92      6348\n",
      "   macro avg       0.31      0.33      0.32      6348\n",
      "weighted avg       0.85      0.92      0.89      6348\n",
      "\n"
     ]
    }
   ],
   "source": [
    "#Confusion Matrix\n",
    "from sklearn.metrics import classification_report, confusion_matrix\n",
    "print(classification_report(y_test, y_pred))"
   ]
  },
  {
   "cell_type": "code",
   "execution_count": null,
   "metadata": {},
   "outputs": [],
   "source": []
  },
  {
   "cell_type": "code",
   "execution_count": null,
   "metadata": {},
   "outputs": [],
   "source": []
  }
 ],
 "metadata": {
  "kernelspec": {
   "display_name": "Python 3",
   "language": "python",
   "name": "python3"
  },
  "language_info": {
   "codemirror_mode": {
    "name": "ipython",
    "version": 3
   },
   "file_extension": ".py",
   "mimetype": "text/x-python",
   "name": "python",
   "nbconvert_exporter": "python",
   "pygments_lexer": "ipython3",
   "version": "3.7.1"
  }
 },
 "nbformat": 4,
 "nbformat_minor": 2
}
